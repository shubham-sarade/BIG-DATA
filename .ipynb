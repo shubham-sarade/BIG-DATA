{
  "nbformat": 4,
  "nbformat_minor": 0,
  "metadata": {
    "colab": {
      "provenance": [],
      "authorship_tag": "ABX9TyPid/MQ0lyagCZadYuX+BSQ",
      "include_colab_link": true
    },
    "kernelspec": {
      "name": "python3",
      "display_name": "Python 3"
    },
    "language_info": {
      "name": "python"
    }
  },
  "cells": [
    {
      "cell_type": "markdown",
      "metadata": {
        "id": "view-in-github",
        "colab_type": "text"
      },
      "source": [
        "<a href=\"https://colab.research.google.com/github/shubham-sarade/BIG-DATA/blob/main/.ipynb\" target=\"_parent\"><img src=\"https://colab.research.google.com/assets/colab-badge.svg\" alt=\"Open In Colab\"/></a>"
      ]
    },
    {
      "cell_type": "code",
      "execution_count": 1,
      "metadata": {
        "colab": {
          "base_uri": "https://localhost:8080/"
        },
        "id": "MVeOyI3CiTR9",
        "outputId": "26b1c103-89e4-4c27-c062-3582c4e6ea17"
      },
      "outputs": [
        {
          "output_type": "stream",
          "name": "stdout",
          "text": [
            "palindrom\n"
          ]
        }
      ],
      "source": [
        "a=\"malayalam\"\n",
        "b=a[::-1]\n",
        "if a==b:\n",
        "  print(\"palindrom\")\n",
        "else:\n",
        "  print(\"not\")\n"
      ]
    },
    {
      "cell_type": "code",
      "source": [
        "def isp(s):\n",
        "  return s[::-1]\n",
        "\n",
        "s=\"acba\"\n",
        "ans=isp(s)\n",
        "if ans==s:\n",
        "  print(\"yes\")\n",
        "else:\n",
        "  print(\"no\")"
      ],
      "metadata": {
        "colab": {
          "base_uri": "https://localhost:8080/"
        },
        "id": "aepBpQCbjHm0",
        "outputId": "8ba08a19-d137-4b9c-c375-a746bd04c075"
      },
      "execution_count": 10,
      "outputs": [
        {
          "output_type": "stream",
          "name": "stdout",
          "text": [
            "no\n"
          ]
        }
      ]
    },
    {
      "cell_type": "code",
      "source": [
        "string=\"Python is awesome, isn't it?\"\n",
        "count=string.count(\"is\")\n",
        "print(\"count of is \",count)"
      ],
      "metadata": {
        "colab": {
          "base_uri": "https://localhost:8080/"
        },
        "id": "i8jSPYw5kfKl",
        "outputId": "a9f15fd3-5211-4dd6-fbd6-69beeb5bd8e5"
      },
      "execution_count": 11,
      "outputs": [
        {
          "output_type": "stream",
          "name": "stdout",
          "text": [
            "count of is  2\n"
          ]
        }
      ]
    },
    {
      "cell_type": "code",
      "source": [
        "a=[56,23,89,65,32,98]\n",
        "b=a[::-1]\n",
        "print(b)\n",
        "b.reverse()\n",
        "print(b)\n",
        "print(len(b))"
      ],
      "metadata": {
        "colab": {
          "base_uri": "https://localhost:8080/"
        },
        "id": "1axcm4CMlDDi",
        "outputId": "b53105e1-a9d0-4b8d-a7cb-b17a5eca4295"
      },
      "execution_count": 18,
      "outputs": [
        {
          "output_type": "stream",
          "name": "stdout",
          "text": [
            "[98, 32, 65, 89, 23, 56]\n",
            "[56, 23, 89, 65, 32, 98]\n",
            "6\n"
          ]
        }
      ]
    },
    {
      "cell_type": "code",
      "source": [
        "def countx(lst,x):\n",
        "  count=0\n",
        "  for i in lst:\n",
        "    if (i == x):\n",
        "      count=count+1\n",
        "  return count\n",
        "lst=[8,56,23,8,83,88,78]\n",
        "x=8\n",
        "print('{} has occure {} times'.format(x,countx(lst,x)))"
      ],
      "metadata": {
        "colab": {
          "base_uri": "https://localhost:8080/"
        },
        "id": "ngZWr-UlmfQB",
        "outputId": "60850919-757a-4c4e-fb00-62f2187bbbe6"
      },
      "execution_count": 24,
      "outputs": [
        {
          "output_type": "stream",
          "name": "stdout",
          "text": [
            "8 has occure 2 times\n"
          ]
        }
      ]
    },
    {
      "cell_type": "code",
      "source": [
        "lst=[8,56,23,8,83,88,78]\n",
        "#c=str.lst\n",
        "b=lst.count(8)\n",
        "print(b)"
      ],
      "metadata": {
        "colab": {
          "base_uri": "https://localhost:8080/"
        },
        "id": "vDEvztkTpHdD",
        "outputId": "9668b846-80db-495e-c0a5-82cc8ecd3210"
      },
      "execution_count": 29,
      "outputs": [
        {
          "output_type": "stream",
          "name": "stdout",
          "text": [
            "2\n"
          ]
        }
      ]
    },
    {
      "cell_type": "code",
      "source": [
        "lst=[8,56,23,8,83,88,78]\n",
        "x=8\n",
        "c=0\n",
        "for i in lst:\n",
        "  if i == 8:\n",
        "    c += 1\n",
        "print(c)"
      ],
      "metadata": {
        "colab": {
          "base_uri": "https://localhost:8080/"
        },
        "id": "dnU_JPA7p8-y",
        "outputId": "5f03c326-d785-4424-c809-859cbd9f3f52"
      },
      "execution_count": 34,
      "outputs": [
        {
          "output_type": "stream",
          "name": "stdout",
          "text": [
            "2\n"
          ]
        }
      ]
    },
    {
      "cell_type": "code",
      "source": [
        "lst=[8,56,23,8,83,88,78]\n",
        "print(min(lst))\n",
        "print(max(lst))"
      ],
      "metadata": {
        "colab": {
          "base_uri": "https://localhost:8080/"
        },
        "id": "2IUBM0saqsUQ",
        "outputId": "d9ea5a13-60b3-415c-a2ef-6d7d2ceda2b1"
      },
      "execution_count": 35,
      "outputs": [
        {
          "output_type": "stream",
          "name": "stdout",
          "text": [
            "8\n",
            "88\n"
          ]
        }
      ]
    },
    {
      "cell_type": "markdown",
      "source": [
        "**common element between 2 Array.**"
      ],
      "metadata": {
        "id": "mB_mJVZ4yVK9"
      }
    },
    {
      "cell_type": "code",
      "source": [
        "import numpy as np\n",
        "ar1=[0,1,2,3,4]\n",
        "ar2=[1,3,4]\n",
        "print(np.intersect1d(ar1,ar2))\n"
      ],
      "metadata": {
        "colab": {
          "base_uri": "https://localhost:8080/"
        },
        "id": "4W8dELq-uovy",
        "outputId": "3b87c3fa-9824-48e7-9aec-0b6f7615a218"
      },
      "execution_count": 36,
      "outputs": [
        {
          "output_type": "stream",
          "name": "stdout",
          "text": [
            "[1 3 4]\n"
          ]
        }
      ]
    },
    {
      "cell_type": "code",
      "source": [
        "ar1=[0,1,2,3,4]\n",
        "ar2=[1,3,4]\n",
        "r=[]\n",
        "for i in ar1:\n",
        "  for j in ar2:\n",
        "    if j==i:\n",
        "      r.append(j)\n",
        "print(r)"
      ],
      "metadata": {
        "colab": {
          "base_uri": "https://localhost:8080/"
        },
        "id": "oe76sdX5vrNx",
        "outputId": "475877e5-d70d-45e5-ea7a-c5b7a0041bc8"
      },
      "execution_count": 37,
      "outputs": [
        {
          "output_type": "stream",
          "name": "stdout",
          "text": [
            "[1, 3, 4]\n"
          ]
        }
      ]
    },
    {
      "cell_type": "markdown",
      "source": [
        "prime no"
      ],
      "metadata": {
        "id": "9nqwhDedyk5D"
      }
    },
    {
      "cell_type": "code",
      "source": [
        "n=int(input())\n",
        "f=0\n",
        "if n>1:\n",
        "  for i in range(2,n):\n",
        "    if(n%i==0):\n",
        "      f=0\n",
        "      break\n",
        "if f==1:\n",
        "  print(\"prime\")\n",
        "else:\n",
        "  print(\"not prime\")"
      ],
      "metadata": {
        "colab": {
          "base_uri": "https://localhost:8080/"
        },
        "id": "F3t1cqREyNBD",
        "outputId": "9cecd6c4-6a48-4432-e156-4b96f4b134b9"
      },
      "execution_count": 42,
      "outputs": [
        {
          "output_type": "stream",
          "name": "stdout",
          "text": [
            "2\n",
            "not prime\n"
          ]
        }
      ]
    },
    {
      "cell_type": "code",
      "source": [
        "n=int(input())\n",
        "f=0\n",
        "if n==1:\n",
        "  print(\"prime\")\n",
        "if n==2:\n",
        "  print(\"prime\")\n",
        "if n>2:\n",
        "  for i in range(2,n):\n",
        "    if(n%i==0):\n",
        "      f=0\n",
        "      break\n",
        "  if f==0:\n",
        "    print(\" prime\")\n",
        "  else:\n",
        "    print(\"not prime\")"
      ],
      "metadata": {
        "colab": {
          "base_uri": "https://localhost:8080/"
        },
        "id": "hT8I9MBNzlr-",
        "outputId": "dc7e75cd-d936-4949-9d2e-11041f04bea4"
      },
      "execution_count": 56,
      "outputs": [
        {
          "output_type": "stream",
          "name": "stdout",
          "text": [
            "100\n",
            " prime\n"
          ]
        }
      ]
    },
    {
      "cell_type": "code",
      "source": [],
      "metadata": {
        "id": "0stIrAtf1_25"
      },
      "execution_count": null,
      "outputs": []
    }
  ]
}